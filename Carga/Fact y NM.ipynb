{
 "cells": [
  {
   "cell_type": "code",
   "execution_count": 1,
   "metadata": {},
   "outputs": [],
   "source": [
    "filename = '2024 03 26 SEMANA 12 FACTURACION DEL 18 AL 24 DE MARZO DEL 2024.xlsx'\n",
    "year = 2024\n",
    "week = 12"
   ]
  },
  {
   "cell_type": "markdown",
   "metadata": {},
   "source": [
    "Libraries"
   ]
  },
  {
   "cell_type": "code",
   "execution_count": 2,
   "metadata": {},
   "outputs": [],
   "source": [
    "import pandas as pd\n",
    "import pyodbc\n",
    "import os\n",
    "import numpy as np\n",
    "# import jupyternotify\n",
    "from datetime import datetime\n",
    "from datetime import timedelta\n",
    "\n",
    "# ip = get_ipython()\n",
    "# ip.register_magics(jupyternotify.JupyterNotifyMagics)\n",
    "\n",
    "# pd.io.formats.excel.ExcelFormatter.header_style = None\n",
    "# pd.options.display.float_format = '{:,.2f}'.format\n",
    "\n"
   ]
  },
  {
   "cell_type": "markdown",
   "metadata": {},
   "source": [
    "# Parameters"
   ]
  },
  {
   "cell_type": "code",
   "execution_count": 3,
   "metadata": {},
   "outputs": [],
   "source": [
    "path = r'\\\\NASPRO.infovisiontv.com\\DGI\\DGI Banco Central\\00 CIERRES SEMANALES\\{0}\\{0} {1}'\n",
    "path = path.format(year, str(week).zfill(2))"
   ]
  },
  {
   "cell_type": "markdown",
   "metadata": {},
   "source": [
    "# Import Data"
   ]
  },
  {
   "cell_type": "markdown",
   "metadata": {},
   "source": [
    "'Grupo de artículos'"
   ]
  },
  {
   "cell_type": "code",
   "execution_count": 4,
   "metadata": {},
   "outputs": [
    {
     "name": "stdout",
     "output_type": "stream",
     "text": [
      "CPU times: total: 969 ms\n",
      "Wall time: 7.29 s\n"
     ]
    }
   ],
   "source": [
    "%%time\n",
    "#df = pd.read_excel(path + '\\\\' + filename, sheet_name='YOSAF', dtype={'Grupo de artículos':'str', 'Tp.cambio p.contab.':'str', 'Lote':'str'})\n",
    "df = pd.read_excel(path + '\\\\' + filename, sheet_name='Sheet1', dtype={'Grupo de artículos':'str', 'Tp.cambio p.contab.':'str', 'Lote':'str'})"
   ]
  },
  {
   "cell_type": "markdown",
   "metadata": {},
   "source": [
    "df[['Grupo de artículos', 'Tp.cambio p.contab.', 'Lote']].dtypes"
   ]
  },
  {
   "cell_type": "code",
   "execution_count": 5,
   "metadata": {},
   "outputs": [
    {
     "data": {
      "text/plain": [
       "(13408, 51)"
      ]
     },
     "execution_count": 5,
     "metadata": {},
     "output_type": "execute_result"
    }
   ],
   "source": [
    "df.shape"
   ]
  },
  {
   "cell_type": "code",
   "execution_count": 6,
   "metadata": {},
   "outputs": [
    {
     "data": {
      "text/html": [
       "<div>\n",
       "<style scoped>\n",
       "    .dataframe tbody tr th:only-of-type {\n",
       "        vertical-align: middle;\n",
       "    }\n",
       "\n",
       "    .dataframe tbody tr th {\n",
       "        vertical-align: top;\n",
       "    }\n",
       "\n",
       "    .dataframe thead th {\n",
       "        text-align: right;\n",
       "    }\n",
       "</style>\n",
       "<table border=\"1\" class=\"dataframe\">\n",
       "  <thead>\n",
       "    <tr style=\"text-align: right;\">\n",
       "      <th></th>\n",
       "      <th>Doc.fact.</th>\n",
       "      <th>Entrega</th>\n",
       "      <th>Asignación</th>\n",
       "      <th>Referencia cliente</th>\n",
       "      <th>Canal distribución</th>\n",
       "      <th>Posición</th>\n",
       "      <th>Documento de ventas</th>\n",
       "      <th>Posición.1</th>\n",
       "      <th>Referencia cliente.1</th>\n",
       "      <th>Material</th>\n",
       "      <th>...</th>\n",
       "      <th>Nombre empresa</th>\n",
       "      <th>Organización ventas</th>\n",
       "      <th>Centro</th>\n",
       "      <th>Almacén</th>\n",
       "      <th>Lote</th>\n",
       "      <th>FeCaduc/FePreferCons</th>\n",
       "      <th>Motivo pedido</th>\n",
       "      <th>Descripción Motivo Pedido</th>\n",
       "      <th>Valor neto.1</th>\n",
       "      <th>Moneda del documento</th>\n",
       "    </tr>\n",
       "  </thead>\n",
       "  <tbody>\n",
       "    <tr>\n",
       "      <th>0</th>\n",
       "      <td>5277449.0</td>\n",
       "      <td>45350896.0</td>\n",
       "      <td>196351465</td>\n",
       "      <td>NaN</td>\n",
       "      <td>A1</td>\n",
       "      <td>10.0</td>\n",
       "      <td>45350896.0</td>\n",
       "      <td>10.0</td>\n",
       "      <td>196351465</td>\n",
       "      <td>9.100000e+09</td>\n",
       "      <td>...</td>\n",
       "      <td>GLI GENOMMA LAB INT</td>\n",
       "      <td>VNMX</td>\n",
       "      <td>MX01</td>\n",
       "      <td>NaN</td>\n",
       "      <td>NaN</td>\n",
       "      <td>NaT</td>\n",
       "      <td>X1</td>\n",
       "      <td>Roll Back ejecución comercial</td>\n",
       "      <td>147282.0</td>\n",
       "      <td>MXN</td>\n",
       "    </tr>\n",
       "  </tbody>\n",
       "</table>\n",
       "<p>1 rows × 51 columns</p>\n",
       "</div>"
      ],
      "text/plain": [
       "   Doc.fact.     Entrega Asignación Referencia cliente Canal distribución  \\\n",
       "0  5277449.0  45350896.0  196351465                NaN                 A1   \n",
       "\n",
       "   Posición  Documento de ventas  Posición.1 Referencia cliente.1  \\\n",
       "0      10.0           45350896.0        10.0            196351465   \n",
       "\n",
       "       Material  ...       Nombre empresa Organización ventas Centro Almacén  \\\n",
       "0  9.100000e+09  ...  GLI GENOMMA LAB INT                VNMX   MX01     NaN   \n",
       "\n",
       "  Lote FeCaduc/FePreferCons Motivo pedido      Descripción Motivo Pedido  \\\n",
       "0  NaN                  NaT            X1  Roll Back ejecución comercial   \n",
       "\n",
       "   Valor neto.1 Moneda del documento  \n",
       "0      147282.0                  MXN  \n",
       "\n",
       "[1 rows x 51 columns]"
      ]
     },
     "execution_count": 6,
     "metadata": {},
     "output_type": "execute_result"
    }
   ],
   "source": [
    "df.head(1)"
   ]
  },
  {
   "cell_type": "code",
   "execution_count": 7,
   "metadata": {},
   "outputs": [],
   "source": [
    "df = df.drop(['Entrega', 'Asignación','Referencia cliente','Canal distribución'], axis=1)\n",
    "df = df.reset_index(drop = True)"
   ]
  },
  {
   "cell_type": "code",
   "execution_count": 8,
   "metadata": {},
   "outputs": [
    {
     "data": {
      "text/html": [
       "<div>\n",
       "<style scoped>\n",
       "    .dataframe tbody tr th:only-of-type {\n",
       "        vertical-align: middle;\n",
       "    }\n",
       "\n",
       "    .dataframe tbody tr th {\n",
       "        vertical-align: top;\n",
       "    }\n",
       "\n",
       "    .dataframe thead th {\n",
       "        text-align: right;\n",
       "    }\n",
       "</style>\n",
       "<table border=\"1\" class=\"dataframe\">\n",
       "  <thead>\n",
       "    <tr style=\"text-align: right;\">\n",
       "      <th></th>\n",
       "      <th>Doc.fact.</th>\n",
       "      <th>Posición</th>\n",
       "      <th>Documento de ventas</th>\n",
       "      <th>Posición.1</th>\n",
       "      <th>Referencia cliente.1</th>\n",
       "      <th>Material</th>\n",
       "      <th>Cd.Barra</th>\n",
       "      <th>Denomin.posición</th>\n",
       "      <th>Solicitante</th>\n",
       "      <th>Nombre</th>\n",
       "      <th>...</th>\n",
       "      <th>Nombre empresa</th>\n",
       "      <th>Organización ventas</th>\n",
       "      <th>Centro</th>\n",
       "      <th>Almacén</th>\n",
       "      <th>Lote</th>\n",
       "      <th>FeCaduc/FePreferCons</th>\n",
       "      <th>Motivo pedido</th>\n",
       "      <th>Descripción Motivo Pedido</th>\n",
       "      <th>Valor neto.1</th>\n",
       "      <th>Moneda del documento</th>\n",
       "    </tr>\n",
       "  </thead>\n",
       "  <tbody>\n",
       "    <tr>\n",
       "      <th>13398</th>\n",
       "      <td>196363143.0</td>\n",
       "      <td>43.0</td>\n",
       "      <td>15415107.0</td>\n",
       "      <td>20.0</td>\n",
       "      <td>4507744649 (sx12.hue</td>\n",
       "      <td>8.100006e+09</td>\n",
       "      <td>NaN</td>\n",
       "      <td>SX ADU 8IONES NARA MAN 630ML 1222/12</td>\n",
       "      <td>1100088</td>\n",
       "      <td>ABARROTERA DEL DUERO</td>\n",
       "      <td>...</td>\n",
       "      <td>GLI GENOMMA LAB INT</td>\n",
       "      <td>VNMX</td>\n",
       "      <td>MXP1</td>\n",
       "      <td>MXPL</td>\n",
       "      <td>B240071</td>\n",
       "      <td>2026-02-09</td>\n",
       "      <td>NaN</td>\n",
       "      <td>NaN</td>\n",
       "      <td>1.386180e+04</td>\n",
       "      <td>MXN</td>\n",
       "    </tr>\n",
       "    <tr>\n",
       "      <th>13399</th>\n",
       "      <td>196363144.0</td>\n",
       "      <td>20.0</td>\n",
       "      <td>15414849.0</td>\n",
       "      <td>20.0</td>\n",
       "      <td>105(4)</td>\n",
       "      <td>8.100006e+09</td>\n",
       "      <td>NaN</td>\n",
       "      <td>SX ADU 8IONES LIMALIMON 630ML 1222/12</td>\n",
       "      <td>1100813</td>\n",
       "      <td>ABARROTES SAN JUAN HEHE</td>\n",
       "      <td>...</td>\n",
       "      <td>GLI GENOMMA LAB INT</td>\n",
       "      <td>VNMX</td>\n",
       "      <td>MXP1</td>\n",
       "      <td>MXPL</td>\n",
       "      <td>4040002216</td>\n",
       "      <td>2026-01-29</td>\n",
       "      <td>NaN</td>\n",
       "      <td>NaN</td>\n",
       "      <td>2.054808e+05</td>\n",
       "      <td>MXN</td>\n",
       "    </tr>\n",
       "    <tr>\n",
       "      <th>13400</th>\n",
       "      <td>196363144.0</td>\n",
       "      <td>40.0</td>\n",
       "      <td>15414849.0</td>\n",
       "      <td>40.0</td>\n",
       "      <td>105(4)</td>\n",
       "      <td>8.100006e+09</td>\n",
       "      <td>NaN</td>\n",
       "      <td>SX ADU 8IONES COCO 630ML 1222/12</td>\n",
       "      <td>1100813</td>\n",
       "      <td>ABARROTES SAN JUAN HEHE</td>\n",
       "      <td>...</td>\n",
       "      <td>GLI GENOMMA LAB INT</td>\n",
       "      <td>VNMX</td>\n",
       "      <td>MXP1</td>\n",
       "      <td>MXPL</td>\n",
       "      <td>406700221H</td>\n",
       "      <td>2026-02-25</td>\n",
       "      <td>NaN</td>\n",
       "      <td>NaN</td>\n",
       "      <td>1.027404e+05</td>\n",
       "      <td>MXN</td>\n",
       "    </tr>\n",
       "    <tr>\n",
       "      <th>13401</th>\n",
       "      <td>196363144.0</td>\n",
       "      <td>60.0</td>\n",
       "      <td>15414849.0</td>\n",
       "      <td>60.0</td>\n",
       "      <td>105(4)</td>\n",
       "      <td>8.100006e+09</td>\n",
       "      <td>NaN</td>\n",
       "      <td>SX ADU 8IONES ALOE VERA LY 630ML 1222/12</td>\n",
       "      <td>1100813</td>\n",
       "      <td>ABARROTES SAN JUAN HEHE</td>\n",
       "      <td>...</td>\n",
       "      <td>GLI GENOMMA LAB INT</td>\n",
       "      <td>VNMX</td>\n",
       "      <td>MXP1</td>\n",
       "      <td>MXPL</td>\n",
       "      <td>3353002217</td>\n",
       "      <td>2025-12-08</td>\n",
       "      <td>NaN</td>\n",
       "      <td>NaN</td>\n",
       "      <td>1.027404e+05</td>\n",
       "      <td>MXN</td>\n",
       "    </tr>\n",
       "    <tr>\n",
       "      <th>13402</th>\n",
       "      <td>NaN</td>\n",
       "      <td>NaN</td>\n",
       "      <td>NaN</td>\n",
       "      <td>NaN</td>\n",
       "      <td>NaN</td>\n",
       "      <td>NaN</td>\n",
       "      <td>NaN</td>\n",
       "      <td>NaN</td>\n",
       "      <td>NaN</td>\n",
       "      <td>NaN</td>\n",
       "      <td>...</td>\n",
       "      <td>NaN</td>\n",
       "      <td>NaN</td>\n",
       "      <td>NaN</td>\n",
       "      <td>NaN</td>\n",
       "      <td>NaN</td>\n",
       "      <td>NaT</td>\n",
       "      <td>NaN</td>\n",
       "      <td>NaN</td>\n",
       "      <td>5.210261e+08</td>\n",
       "      <td>MXN</td>\n",
       "    </tr>\n",
       "    <tr>\n",
       "      <th>13403</th>\n",
       "      <td>NaN</td>\n",
       "      <td>NaN</td>\n",
       "      <td>NaN</td>\n",
       "      <td>NaN</td>\n",
       "      <td>NaN</td>\n",
       "      <td>NaN</td>\n",
       "      <td>NaN</td>\n",
       "      <td>NaN</td>\n",
       "      <td>NaN</td>\n",
       "      <td>NaN</td>\n",
       "      <td>...</td>\n",
       "      <td>NaN</td>\n",
       "      <td>NaN</td>\n",
       "      <td>NaN</td>\n",
       "      <td>NaN</td>\n",
       "      <td>NaN</td>\n",
       "      <td>NaT</td>\n",
       "      <td>NaN</td>\n",
       "      <td>NaN</td>\n",
       "      <td>5.881682e+05</td>\n",
       "      <td>USD</td>\n",
       "    </tr>\n",
       "    <tr>\n",
       "      <th>13404</th>\n",
       "      <td>NaN</td>\n",
       "      <td>NaN</td>\n",
       "      <td>NaN</td>\n",
       "      <td>NaN</td>\n",
       "      <td>NaN</td>\n",
       "      <td>NaN</td>\n",
       "      <td>NaN</td>\n",
       "      <td>NaN</td>\n",
       "      <td>NaN</td>\n",
       "      <td>NaN</td>\n",
       "      <td>...</td>\n",
       "      <td>NaN</td>\n",
       "      <td>NaN</td>\n",
       "      <td>NaN</td>\n",
       "      <td>NaN</td>\n",
       "      <td>NaN</td>\n",
       "      <td>NaT</td>\n",
       "      <td>NaN</td>\n",
       "      <td>NaN</td>\n",
       "      <td>NaN</td>\n",
       "      <td>NaN</td>\n",
       "    </tr>\n",
       "    <tr>\n",
       "      <th>13405</th>\n",
       "      <td>NaN</td>\n",
       "      <td>NaN</td>\n",
       "      <td>NaN</td>\n",
       "      <td>NaN</td>\n",
       "      <td>NaN</td>\n",
       "      <td>NaN</td>\n",
       "      <td>NaN</td>\n",
       "      <td>NaN</td>\n",
       "      <td>NaN</td>\n",
       "      <td>NaN</td>\n",
       "      <td>...</td>\n",
       "      <td>NaN</td>\n",
       "      <td>NaN</td>\n",
       "      <td>NaN</td>\n",
       "      <td>NaN</td>\n",
       "      <td>NaN</td>\n",
       "      <td>NaT</td>\n",
       "      <td>NaN</td>\n",
       "      <td>NaN</td>\n",
       "      <td>NaN</td>\n",
       "      <td>NaN</td>\n",
       "    </tr>\n",
       "    <tr>\n",
       "      <th>13406</th>\n",
       "      <td>NaN</td>\n",
       "      <td>NaN</td>\n",
       "      <td>NaN</td>\n",
       "      <td>NaN</td>\n",
       "      <td>NaN</td>\n",
       "      <td>NaN</td>\n",
       "      <td>NaN</td>\n",
       "      <td>NaN</td>\n",
       "      <td>NaN</td>\n",
       "      <td>NaN</td>\n",
       "      <td>...</td>\n",
       "      <td>NaN</td>\n",
       "      <td>NaN</td>\n",
       "      <td>NaN</td>\n",
       "      <td>NaN</td>\n",
       "      <td>NaN</td>\n",
       "      <td>NaT</td>\n",
       "      <td>NaN</td>\n",
       "      <td>NaN</td>\n",
       "      <td>NaN</td>\n",
       "      <td>NaN</td>\n",
       "    </tr>\n",
       "    <tr>\n",
       "      <th>13407</th>\n",
       "      <td>NaN</td>\n",
       "      <td>NaN</td>\n",
       "      <td>NaN</td>\n",
       "      <td>NaN</td>\n",
       "      <td>NaN</td>\n",
       "      <td>NaN</td>\n",
       "      <td>NaN</td>\n",
       "      <td>NaN</td>\n",
       "      <td>NaN</td>\n",
       "      <td>NaN</td>\n",
       "      <td>...</td>\n",
       "      <td>NaN</td>\n",
       "      <td>NaN</td>\n",
       "      <td>NaN</td>\n",
       "      <td>NaN</td>\n",
       "      <td>NaN</td>\n",
       "      <td>NaT</td>\n",
       "      <td>NaN</td>\n",
       "      <td>NaN</td>\n",
       "      <td>NaN</td>\n",
       "      <td>NaN</td>\n",
       "    </tr>\n",
       "  </tbody>\n",
       "</table>\n",
       "<p>10 rows × 47 columns</p>\n",
       "</div>"
      ],
      "text/plain": [
       "         Doc.fact.  Posición  Documento de ventas  Posición.1  \\\n",
       "13398  196363143.0      43.0           15415107.0        20.0   \n",
       "13399  196363144.0      20.0           15414849.0        20.0   \n",
       "13400  196363144.0      40.0           15414849.0        40.0   \n",
       "13401  196363144.0      60.0           15414849.0        60.0   \n",
       "13402          NaN       NaN                  NaN         NaN   \n",
       "13403          NaN       NaN                  NaN         NaN   \n",
       "13404          NaN       NaN                  NaN         NaN   \n",
       "13405          NaN       NaN                  NaN         NaN   \n",
       "13406          NaN       NaN                  NaN         NaN   \n",
       "13407          NaN       NaN                  NaN         NaN   \n",
       "\n",
       "       Referencia cliente.1      Material Cd.Barra  \\\n",
       "13398  4507744649 (sx12.hue  8.100006e+09      NaN   \n",
       "13399                105(4)  8.100006e+09      NaN   \n",
       "13400                105(4)  8.100006e+09      NaN   \n",
       "13401                105(4)  8.100006e+09      NaN   \n",
       "13402                   NaN           NaN      NaN   \n",
       "13403                   NaN           NaN      NaN   \n",
       "13404                   NaN           NaN      NaN   \n",
       "13405                   NaN           NaN      NaN   \n",
       "13406                   NaN           NaN      NaN   \n",
       "13407                   NaN           NaN      NaN   \n",
       "\n",
       "                               Denomin.posición Solicitante  \\\n",
       "13398      SX ADU 8IONES NARA MAN 630ML 1222/12     1100088   \n",
       "13399     SX ADU 8IONES LIMALIMON 630ML 1222/12     1100813   \n",
       "13400          SX ADU 8IONES COCO 630ML 1222/12     1100813   \n",
       "13401  SX ADU 8IONES ALOE VERA LY 630ML 1222/12     1100813   \n",
       "13402                                       NaN         NaN   \n",
       "13403                                       NaN         NaN   \n",
       "13404                                       NaN         NaN   \n",
       "13405                                       NaN         NaN   \n",
       "13406                                       NaN         NaN   \n",
       "13407                                       NaN         NaN   \n",
       "\n",
       "                        Nombre  ...       Nombre empresa Organización ventas  \\\n",
       "13398     ABARROTERA DEL DUERO  ...  GLI GENOMMA LAB INT                VNMX   \n",
       "13399  ABARROTES SAN JUAN HEHE  ...  GLI GENOMMA LAB INT                VNMX   \n",
       "13400  ABARROTES SAN JUAN HEHE  ...  GLI GENOMMA LAB INT                VNMX   \n",
       "13401  ABARROTES SAN JUAN HEHE  ...  GLI GENOMMA LAB INT                VNMX   \n",
       "13402                      NaN  ...                  NaN                 NaN   \n",
       "13403                      NaN  ...                  NaN                 NaN   \n",
       "13404                      NaN  ...                  NaN                 NaN   \n",
       "13405                      NaN  ...                  NaN                 NaN   \n",
       "13406                      NaN  ...                  NaN                 NaN   \n",
       "13407                      NaN  ...                  NaN                 NaN   \n",
       "\n",
       "      Centro Almacén        Lote FeCaduc/FePreferCons  Motivo pedido  \\\n",
       "13398   MXP1    MXPL     B240071           2026-02-09            NaN   \n",
       "13399   MXP1    MXPL  4040002216           2026-01-29            NaN   \n",
       "13400   MXP1    MXPL  406700221H           2026-02-25            NaN   \n",
       "13401   MXP1    MXPL  3353002217           2025-12-08            NaN   \n",
       "13402    NaN     NaN         NaN                  NaT            NaN   \n",
       "13403    NaN     NaN         NaN                  NaT            NaN   \n",
       "13404    NaN     NaN         NaN                  NaT            NaN   \n",
       "13405    NaN     NaN         NaN                  NaT            NaN   \n",
       "13406    NaN     NaN         NaN                  NaT            NaN   \n",
       "13407    NaN     NaN         NaN                  NaT            NaN   \n",
       "\n",
       "      Descripción Motivo Pedido  Valor neto.1 Moneda del documento  \n",
       "13398                       NaN  1.386180e+04                  MXN  \n",
       "13399                       NaN  2.054808e+05                  MXN  \n",
       "13400                       NaN  1.027404e+05                  MXN  \n",
       "13401                       NaN  1.027404e+05                  MXN  \n",
       "13402                       NaN  5.210261e+08                  MXN  \n",
       "13403                       NaN  5.881682e+05                  USD  \n",
       "13404                       NaN           NaN                  NaN  \n",
       "13405                       NaN           NaN                  NaN  \n",
       "13406                       NaN           NaN                  NaN  \n",
       "13407                       NaN           NaN                  NaN  \n",
       "\n",
       "[10 rows x 47 columns]"
      ]
     },
     "execution_count": 8,
     "metadata": {},
     "output_type": "execute_result"
    }
   ],
   "source": [
    "df.tail(10)"
   ]
  },
  {
   "cell_type": "markdown",
   "metadata": {},
   "source": [
    "# Data Cleaning"
   ]
  },
  {
   "cell_type": "markdown",
   "metadata": {},
   "source": [
    "En esta línea omitimos las 6 filas nulas: (o las que vengan con NaN)"
   ]
  },
  {
   "cell_type": "code",
   "execution_count": 9,
   "metadata": {},
   "outputs": [],
   "source": [
    "df = df[:df.shape[0]-6]"
   ]
  },
  {
   "cell_type": "code",
   "execution_count": 10,
   "metadata": {},
   "outputs": [
    {
     "data": {
      "text/plain": [
       "Referencia cliente.1             5\n",
       "Cd.Barra                      5256\n",
       "RFC                           3673\n",
       "Nº cuenta anterior             398\n",
       "Destinatario mcía.               5\n",
       "Nombre.1                         5\n",
       "Descripción CeBe                 5\n",
       "Almacén                        656\n",
       "Lote                           657\n",
       "FeCaduc/FePreferCons           657\n",
       "Motivo pedido                12341\n",
       "Descripción Motivo Pedido    12341\n",
       "dtype: int64"
      ]
     },
     "execution_count": 10,
     "metadata": {},
     "output_type": "execute_result"
    }
   ],
   "source": [
    "df.isnull().sum()[df.isnull().sum() > 0]"
   ]
  },
  {
   "cell_type": "markdown",
   "metadata": {},
   "source": [
    "Aquí renombraremos las columnas:"
   ]
  },
  {
   "cell_type": "code",
   "execution_count": 11,
   "metadata": {},
   "outputs": [],
   "source": [
    "new_cols = [\n",
    "     'Factura',\n",
    "     'Posicion',\n",
    "     'DocumentoVentas',\n",
    "     'PosicionDV',\n",
    "     'NumeroPedCliente',\n",
    "     'Material',\n",
    "     'CodigoBarras',\n",
    "     'Denominacion',\n",
    "     'Solicitante',\n",
    "     'Nombre',\n",
    "     'RFC',\n",
    "     'CNAC',\n",
    "     'GrupoCuentas',\n",
    "     'GrupoTesoreria',\n",
    "     'DestinatarioMcia',\n",
    "     'NombreDestinatario',\n",
    "     'CantidadFacturada',\n",
    "     'UnidadMedida',\n",
    "     'CtdFactUMB',\n",
    "     'UnidadMedidaBase',\n",
    "     'PrecioUnitario',\n",
    "     'ImpuestoBase',\n",
    "     'ImpuestoDescuento',\n",
    "     'ValorNeto',\n",
    "     'ImporteImpuesto',\n",
    "     'ImpuestoIEPS',\n",
    "     'ImpuestoTotal',\n",
    "     'CentroBeneficio',\n",
    "     'DescripcionCebe',\n",
    "     'TipoUnidades',\n",
    "     'FechaFactura',\n",
    "     'GrupoArticulos',\n",
    "     'DenominacionArticulos',\n",
    "     'ClaseFactura',\n",
    "     'DenominacionTipoDocto',\n",
    "     'CambioContable',\n",
    "     'Sociedad',\n",
    "     'Nombreempresa',\n",
    "     'OrganizacionVentas',\n",
    "     'Centro',\n",
    "     'Almacen',\n",
    "     'Lote',\n",
    "     'FechaCaducidad',\n",
    "     'MotivoPedido',\n",
    "     'DescMotivoPedido',\n",
    "     'ValorNetoAbs',\n",
    "     'Moneda'\n",
    "]"
   ]
  },
  {
   "cell_type": "code",
   "execution_count": 12,
   "metadata": {},
   "outputs": [
    {
     "data": {
      "text/plain": [
       "(13402, 47)"
      ]
     },
     "execution_count": 12,
     "metadata": {},
     "output_type": "execute_result"
    }
   ],
   "source": [
    "df.columns = new_cols\n",
    "df.shape"
   ]
  },
  {
   "cell_type": "markdown",
   "metadata": {},
   "source": [
    "Estas columnas en vez de tener nulos, deben ser 5 espacios vacío, sino se cumple esto, no se verá reflajada la data de facturación:"
   ]
  },
  {
   "cell_type": "code",
   "execution_count": 13,
   "metadata": {},
   "outputs": [],
   "source": [
    "cols_nulls = ['RFC', 'CNAC', 'Almacen', 'Lote', 'MotivoPedido', 'DescMotivoPedido']\n",
    "for col in cols_nulls: \n",
    "    df[col].fillna('     ', inplace=True)"
   ]
  },
  {
   "cell_type": "code",
   "execution_count": 14,
   "metadata": {},
   "outputs": [
    {
     "data": {
      "text/plain": [
       "NumeroPedCliente         5\n",
       "CodigoBarras          5256\n",
       "DestinatarioMcia         5\n",
       "NombreDestinatario       5\n",
       "DescripcionCebe          5\n",
       "FechaCaducidad         657\n",
       "dtype: int64"
      ]
     },
     "execution_count": 14,
     "metadata": {},
     "output_type": "execute_result"
    }
   ],
   "source": [
    "df.isnull().sum()[df.isnull().sum() > 0]"
   ]
  },
  {
   "cell_type": "code",
   "execution_count": 15,
   "metadata": {},
   "outputs": [],
   "source": [
    "df['Solicitante'] = df['Solicitante'].astype('str')"
   ]
  },
  {
   "cell_type": "code",
   "execution_count": 16,
   "metadata": {},
   "outputs": [],
   "source": [
    "masked = df['Solicitante'].apply(lambda x: ('CMX20' in x))\n",
    "df = df[~masked]"
   ]
  },
  {
   "cell_type": "code",
   "execution_count": 17,
   "metadata": {},
   "outputs": [],
   "source": [
    "df['Solicitante'] = df['Solicitante'].astype(float)"
   ]
  },
  {
   "cell_type": "markdown",
   "metadata": {},
   "source": [
    "Transformamos de decimales a enteros las siguientes columnas:"
   ]
  },
  {
   "cell_type": "code",
   "execution_count": 18,
   "metadata": {},
   "outputs": [],
   "source": [
    "cols_int = [\n",
    "    'Factura',\n",
    "    'Posicion',\n",
    "    'DocumentoVentas',\n",
    "    'PosicionDV',\n",
    "    'Material',\n",
    "    'Solicitante',\n",
    "    'CtdFactUMB',\n",
    "    'ImpuestoDescuento',\n",
    "    'ImpuestoIEPS',\n",
    "]"
   ]
  },
  {
   "cell_type": "code",
   "execution_count": 19,
   "metadata": {},
   "outputs": [
    {
     "data": {
      "text/plain": [
       "array([1100008., 1100017., 1100018., 1100037., 1100046., 1100215.,\n",
       "       1100077., 1100000., 1100035., 1101504., 1100012., 1100029.,\n",
       "       1100042., 1100103., 1100217., 1100252., 1100810., 1100034.,\n",
       "       1100060., 1100074., 1100078., 1100247., 1100415., 1100420.,\n",
       "       1101044., 1101318., 1100022., 1100005., 1100009., 1100010.,\n",
       "       1101051., 1101442., 1100006., 1100083., 1100088., 1100523.,\n",
       "       1100842., 1101405., 1100040., 1100031., 1100631., 1300005.,\n",
       "       1100961., 1300014., 1100024., 1100027., 1100522., 1101096.,\n",
       "       1101437., 1100245., 1100013., 1100019., 1100039., 1100061.,\n",
       "       1100062., 1100076., 1100222., 1100638., 1101393., 1100278.,\n",
       "       1100011., 1300015., 1100050., 1101556., 1101678., 1100036.,\n",
       "       1100093., 1100104., 1101024., 1101436., 1100070., 1100082.,\n",
       "       1100073., 1100049., 1100813., 1101395., 1101397., 1100003.,\n",
       "       1300013., 1100887., 1100885., 1100811., 1101462., 1101259.,\n",
       "       1101309., 1101411., 1101023., 1300012., 1300024., 1300018.,\n",
       "       7000010., 1101315., 1101555., 1101631., 1101638., 1101646.,\n",
       "       1101656., 1101676., 1101554., 1101400., 1101657., 1100026.,\n",
       "       1100660., 1100293., 1100053.])"
      ]
     },
     "execution_count": 19,
     "metadata": {},
     "output_type": "execute_result"
    }
   ],
   "source": [
    "df['Solicitante'].unique()"
   ]
  },
  {
   "cell_type": "code",
   "execution_count": 20,
   "metadata": {},
   "outputs": [
    {
     "name": "stdout",
     "output_type": "stream",
     "text": [
      "Factura\n",
      "Posicion\n",
      "DocumentoVentas\n",
      "PosicionDV\n",
      "Material\n",
      "Solicitante\n",
      "CtdFactUMB\n",
      "ImpuestoDescuento\n",
      "ImpuestoIEPS\n"
     ]
    }
   ],
   "source": [
    "for col in cols_int:\n",
    "    print(col)\n",
    "    df[col] = df[col].map(int)"
   ]
  },
  {
   "cell_type": "markdown",
   "metadata": {},
   "source": [
    "Verificamos que estas dos columnas sean fechas (sino lo son pues hay que convertirlas):"
   ]
  },
  {
   "cell_type": "code",
   "execution_count": 21,
   "metadata": {},
   "outputs": [
    {
     "data": {
      "text/plain": [
       "FechaCaducidad    datetime64[ns]\n",
       "FechaCaducidad    datetime64[ns]\n",
       "dtype: object"
      ]
     },
     "execution_count": 21,
     "metadata": {},
     "output_type": "execute_result"
    }
   ],
   "source": [
    "df[['FechaCaducidad', 'FechaCaducidad']].dtypes"
   ]
  },
  {
   "cell_type": "markdown",
   "metadata": {},
   "source": [
    "Verificar que las fechas de factura y caducidad tengan sentido (por ejemplo que no caduque en el año 9999):"
   ]
  },
  {
   "cell_type": "code",
   "execution_count": 22,
   "metadata": {},
   "outputs": [
    {
     "name": "stdout",
     "output_type": "stream",
     "text": [
      "FechaFactura desde: 2024-03-18 00:00:00\n",
      "FechaFactura hasta: 2024-03-24 00:00:00\n"
     ]
    }
   ],
   "source": [
    "print('FechaFactura desde:', df['FechaFactura'].min())\n",
    "print('FechaFactura hasta:', df['FechaFactura'].max())"
   ]
  },
  {
   "cell_type": "code",
   "execution_count": 23,
   "metadata": {},
   "outputs": [
    {
     "name": "stdout",
     "output_type": "stream",
     "text": [
      "FechaCaducidad desde: 2023-02-28 00:00:00\n",
      "FechaCaducidad hasta: 2029-03-03 00:00:00\n"
     ]
    }
   ],
   "source": [
    "print('FechaCaducidad desde:', df['FechaCaducidad'].min())\n",
    "print('FechaCaducidad hasta:', df['FechaCaducidad'].max())"
   ]
  },
  {
   "cell_type": "markdown",
   "metadata": {},
   "source": [
    "# Validations"
   ]
  },
  {
   "cell_type": "code",
   "execution_count": 24,
   "metadata": {},
   "outputs": [],
   "source": [
    "conn = pyodbc.connect('Driver={SQL Server};'\n",
    "                     'Server=SFEDWH01;'\n",
    "                     'Trusted_Connection=yes;')"
   ]
  },
  {
   "cell_type": "code",
   "execution_count": 25,
   "metadata": {},
   "outputs": [],
   "source": [
    "conn_2= pyodbc.connect('Driver={SQL Server};'\n",
    "                     'Server=SFECLUSQL08\\ODS;'\n",
    "                     'Trusted_Connection=yes;')"
   ]
  },
  {
   "cell_type": "code",
   "execution_count": 26,
   "metadata": {},
   "outputs": [],
   "source": [
    "qtime = '''SELECT DISTINCT \n",
    "                Fecha as TmpFecha,\n",
    "                SemNumero AS SemanaGL,\n",
    "                SemAnio AS AnioGL\n",
    "  FROM [MarketingDataMart].[dbo].[Dim_Tiempo]'''"
   ]
  },
  {
   "cell_type": "code",
   "execution_count": 27,
   "metadata": {},
   "outputs": [
    {
     "name": "stderr",
     "output_type": "stream",
     "text": [
      "C:\\Users\\acbarrera\\AppData\\Local\\Temp\\ipykernel_38276\\286322697.py:1: UserWarning: pandas only supports SQLAlchemy connectable (engine/connection) or database string URI or sqlite3 DBAPI2 connection. Other DBAPI2 objects are not tested. Please consider using SQLAlchemy.\n",
      "  dtime = pd.read_sql(qtime, conn_2)\n"
     ]
    }
   ],
   "source": [
    "dtime = pd.read_sql(qtime, conn_2)"
   ]
  },
  {
   "cell_type": "code",
   "execution_count": 28,
   "metadata": {},
   "outputs": [],
   "source": [
    "df = df.merge(dtime, left_on='FechaFactura', right_on='TmpFecha', how='left')"
   ]
  },
  {
   "cell_type": "code",
   "execution_count": 29,
   "metadata": {},
   "outputs": [
    {
     "data": {
      "text/html": [
       "<div>\n",
       "<style scoped>\n",
       "    .dataframe tbody tr th:only-of-type {\n",
       "        vertical-align: middle;\n",
       "    }\n",
       "\n",
       "    .dataframe tbody tr th {\n",
       "        vertical-align: top;\n",
       "    }\n",
       "\n",
       "    .dataframe thead th {\n",
       "        text-align: right;\n",
       "    }\n",
       "</style>\n",
       "<table border=\"1\" class=\"dataframe\">\n",
       "  <thead>\n",
       "    <tr style=\"text-align: right;\">\n",
       "      <th></th>\n",
       "      <th>ValorNeto</th>\n",
       "    </tr>\n",
       "    <tr>\n",
       "      <th>SemanaGL</th>\n",
       "      <th></th>\n",
       "    </tr>\n",
       "  </thead>\n",
       "  <tbody>\n",
       "    <tr>\n",
       "      <th>12</th>\n",
       "      <td>4.533590e+08</td>\n",
       "    </tr>\n",
       "  </tbody>\n",
       "</table>\n",
       "</div>"
      ],
      "text/plain": [
       "             ValorNeto\n",
       "SemanaGL              \n",
       "12        4.533590e+08"
      ]
     },
     "execution_count": 29,
     "metadata": {},
     "output_type": "execute_result"
    }
   ],
   "source": [
    "df.pivot_table(\n",
    "    index='SemanaGL', \n",
    "    values=['ValorNeto'],\n",
    "    aggfunc='sum'\n",
    ")"
   ]
  },
  {
   "cell_type": "code",
   "execution_count": 30,
   "metadata": {},
   "outputs": [
    {
     "data": {
      "text/html": [
       "<div>\n",
       "<style scoped>\n",
       "    .dataframe tbody tr th:only-of-type {\n",
       "        vertical-align: middle;\n",
       "    }\n",
       "\n",
       "    .dataframe tbody tr th {\n",
       "        vertical-align: top;\n",
       "    }\n",
       "\n",
       "    .dataframe thead th {\n",
       "        text-align: right;\n",
       "    }\n",
       "</style>\n",
       "<table border=\"1\" class=\"dataframe\">\n",
       "  <thead>\n",
       "    <tr style=\"text-align: right;\">\n",
       "      <th></th>\n",
       "      <th>Factura</th>\n",
       "    </tr>\n",
       "    <tr>\n",
       "      <th>SemanaGL</th>\n",
       "      <th></th>\n",
       "    </tr>\n",
       "  </thead>\n",
       "  <tbody>\n",
       "    <tr>\n",
       "      <th>12</th>\n",
       "      <td>13397</td>\n",
       "    </tr>\n",
       "    <tr>\n",
       "      <th>All</th>\n",
       "      <td>13397</td>\n",
       "    </tr>\n",
       "  </tbody>\n",
       "</table>\n",
       "</div>"
      ],
      "text/plain": [
       "          Factura\n",
       "SemanaGL         \n",
       "12          13397\n",
       "All         13397"
      ]
     },
     "execution_count": 30,
     "metadata": {},
     "output_type": "execute_result"
    }
   ],
   "source": [
    "df.pivot_table(\n",
    "    index='SemanaGL', \n",
    "    values='Factura',\n",
    "    aggfunc='count',\n",
    "    margins=True\n",
    ")"
   ]
  },
  {
   "cell_type": "code",
   "execution_count": 31,
   "metadata": {},
   "outputs": [
    {
     "data": {
      "text/html": [
       "<div>\n",
       "<style scoped>\n",
       "    .dataframe tbody tr th:only-of-type {\n",
       "        vertical-align: middle;\n",
       "    }\n",
       "\n",
       "    .dataframe tbody tr th {\n",
       "        vertical-align: top;\n",
       "    }\n",
       "\n",
       "    .dataframe thead th {\n",
       "        text-align: right;\n",
       "    }\n",
       "</style>\n",
       "<table border=\"1\" class=\"dataframe\">\n",
       "  <thead>\n",
       "    <tr style=\"text-align: right;\">\n",
       "      <th></th>\n",
       "      <th>ValorNeto</th>\n",
       "    </tr>\n",
       "    <tr>\n",
       "      <th>ClaseFactura</th>\n",
       "      <th></th>\n",
       "    </tr>\n",
       "  </thead>\n",
       "  <tbody>\n",
       "    <tr>\n",
       "      <th>S1</th>\n",
       "      <td>-1.563723e+06</td>\n",
       "    </tr>\n",
       "    <tr>\n",
       "      <th>S2</th>\n",
       "      <td>4.279361e+04</td>\n",
       "    </tr>\n",
       "    <tr>\n",
       "      <th>ZDEV</th>\n",
       "      <td>-1.173042e+04</td>\n",
       "    </tr>\n",
       "    <tr>\n",
       "      <th>ZF2</th>\n",
       "      <td>4.253937e+08</td>\n",
       "    </tr>\n",
       "    <tr>\n",
       "      <th>ZFEC</th>\n",
       "      <td>2.340074e+05</td>\n",
       "    </tr>\n",
       "    <tr>\n",
       "      <th>ZFVE</th>\n",
       "      <td>5.759590e+03</td>\n",
       "    </tr>\n",
       "    <tr>\n",
       "      <th>ZFVI</th>\n",
       "      <td>2.406832e+05</td>\n",
       "    </tr>\n",
       "    <tr>\n",
       "      <th>ZIEM</th>\n",
       "      <td>9.369683e+06</td>\n",
       "    </tr>\n",
       "    <tr>\n",
       "      <th>ZNCD</th>\n",
       "      <td>-5.422238e+04</td>\n",
       "    </tr>\n",
       "    <tr>\n",
       "      <th>ZRES</th>\n",
       "      <td>-3.368318e+07</td>\n",
       "    </tr>\n",
       "    <tr>\n",
       "      <th>ZRMX</th>\n",
       "      <td>1.152000e+04</td>\n",
       "    </tr>\n",
       "    <tr>\n",
       "      <th>ZSER</th>\n",
       "      <td>4.114382e+04</td>\n",
       "    </tr>\n",
       "    <tr>\n",
       "      <th>ZSFE</th>\n",
       "      <td>5.672251e+07</td>\n",
       "    </tr>\n",
       "    <tr>\n",
       "      <th>ZSRE</th>\n",
       "      <td>-3.389928e+06</td>\n",
       "    </tr>\n",
       "  </tbody>\n",
       "</table>\n",
       "</div>"
      ],
      "text/plain": [
       "                 ValorNeto\n",
       "ClaseFactura              \n",
       "S1           -1.563723e+06\n",
       "S2            4.279361e+04\n",
       "ZDEV         -1.173042e+04\n",
       "ZF2           4.253937e+08\n",
       "ZFEC          2.340074e+05\n",
       "ZFVE          5.759590e+03\n",
       "ZFVI          2.406832e+05\n",
       "ZIEM          9.369683e+06\n",
       "ZNCD         -5.422238e+04\n",
       "ZRES         -3.368318e+07\n",
       "ZRMX          1.152000e+04\n",
       "ZSER          4.114382e+04\n",
       "ZSFE          5.672251e+07\n",
       "ZSRE         -3.389928e+06"
      ]
     },
     "execution_count": 31,
     "metadata": {},
     "output_type": "execute_result"
    }
   ],
   "source": [
    "df.pivot_table(\n",
    "    index='ClaseFactura', \n",
    "    values='ValorNeto', \n",
    "    aggfunc='sum'\n",
    ")"
   ]
  },
  {
   "cell_type": "code",
   "execution_count": 32,
   "metadata": {},
   "outputs": [],
   "source": [
    "mask = df['ClaseFactura'].apply(lambda x: ('ZNCD' in x))\n",
    "df = df[~mask]"
   ]
  },
  {
   "cell_type": "code",
   "execution_count": 33,
   "metadata": {},
   "outputs": [
    {
     "data": {
      "text/html": [
       "<div>\n",
       "<style scoped>\n",
       "    .dataframe tbody tr th:only-of-type {\n",
       "        vertical-align: middle;\n",
       "    }\n",
       "\n",
       "    .dataframe tbody tr th {\n",
       "        vertical-align: top;\n",
       "    }\n",
       "\n",
       "    .dataframe thead th {\n",
       "        text-align: right;\n",
       "    }\n",
       "</style>\n",
       "<table border=\"1\" class=\"dataframe\">\n",
       "  <thead>\n",
       "    <tr style=\"text-align: right;\">\n",
       "      <th></th>\n",
       "      <th>ValorNeto</th>\n",
       "    </tr>\n",
       "    <tr>\n",
       "      <th>SemanaGL</th>\n",
       "      <th></th>\n",
       "    </tr>\n",
       "  </thead>\n",
       "  <tbody>\n",
       "    <tr>\n",
       "      <th>12</th>\n",
       "      <td>4.534133e+08</td>\n",
       "    </tr>\n",
       "  </tbody>\n",
       "</table>\n",
       "</div>"
      ],
      "text/plain": [
       "             ValorNeto\n",
       "SemanaGL              \n",
       "12        4.534133e+08"
      ]
     },
     "execution_count": 33,
     "metadata": {},
     "output_type": "execute_result"
    }
   ],
   "source": [
    "df.pivot_table(\n",
    "    index='SemanaGL', \n",
    "    values=['ValorNeto'],\n",
    "    aggfunc='sum'\n",
    ")"
   ]
  },
  {
   "cell_type": "code",
   "execution_count": 34,
   "metadata": {},
   "outputs": [
    {
     "data": {
      "text/html": [
       "<div>\n",
       "<style scoped>\n",
       "    .dataframe tbody tr th:only-of-type {\n",
       "        vertical-align: middle;\n",
       "    }\n",
       "\n",
       "    .dataframe tbody tr th {\n",
       "        vertical-align: top;\n",
       "    }\n",
       "\n",
       "    .dataframe thead th {\n",
       "        text-align: right;\n",
       "    }\n",
       "</style>\n",
       "<table border=\"1\" class=\"dataframe\">\n",
       "  <thead>\n",
       "    <tr style=\"text-align: right;\">\n",
       "      <th></th>\n",
       "      <th>Factura</th>\n",
       "    </tr>\n",
       "    <tr>\n",
       "      <th>SemanaGL</th>\n",
       "      <th></th>\n",
       "    </tr>\n",
       "  </thead>\n",
       "  <tbody>\n",
       "    <tr>\n",
       "      <th>12</th>\n",
       "      <td>13350</td>\n",
       "    </tr>\n",
       "    <tr>\n",
       "      <th>All</th>\n",
       "      <td>13350</td>\n",
       "    </tr>\n",
       "  </tbody>\n",
       "</table>\n",
       "</div>"
      ],
      "text/plain": [
       "          Factura\n",
       "SemanaGL         \n",
       "12          13350\n",
       "All         13350"
      ]
     },
     "execution_count": 34,
     "metadata": {},
     "output_type": "execute_result"
    }
   ],
   "source": [
    "df.pivot_table(\n",
    "    index='SemanaGL', \n",
    "    values='Factura',\n",
    "    aggfunc='count',\n",
    "    margins=True\n",
    ")"
   ]
  },
  {
   "cell_type": "code",
   "execution_count": 35,
   "metadata": {},
   "outputs": [],
   "source": [
    "# Convertir la columna 'CodigoBarras' a tipo bigint\n",
    "df['CodigoBarras'] = pd.to_numeric(df['CodigoBarras'], errors='coerce', downcast='integer')\n"
   ]
  },
  {
   "cell_type": "code",
   "execution_count": 36,
   "metadata": {},
   "outputs": [
    {
     "data": {
      "text/plain": [
       "array([           nan, 6.50240001e+11, 7.50131863e+12, 6.50240017e+11,\n",
       "       6.50240025e+11, 6.50240032e+11, 6.50240066e+11, 6.50240032e+11,\n",
       "       6.50240027e+11, 6.50240062e+11, 6.50240062e+11, 6.50240007e+11,\n",
       "       6.50240033e+11, 6.50240069e+11, 6.50240069e+11, 6.50240007e+11,\n",
       "       6.50240010e+11, 6.50240053e+11, 6.50240011e+11, 6.50240058e+11,\n",
       "       6.50240033e+11, 7.50954603e+12, 6.50240016e+11, 6.50240066e+11,\n",
       "       6.50240036e+11, 6.50240065e+11, 6.50240070e+11, 6.50240022e+11,\n",
       "       6.50240036e+11, 6.50240069e+11, 6.50240069e+11, 6.50240033e+11,\n",
       "       6.50240065e+11, 6.50240007e+11, 6.50240011e+11, 6.50240020e+11,\n",
       "       7.50131868e+12, 6.50240014e+11, 6.50240028e+11, 6.50240032e+11,\n",
       "       6.50240032e+11, 7.79814026e+12, 6.50240029e+11, 7.79814026e+12,\n",
       "       7.79814026e+12, 7.79814026e+12, 7.79814026e+12, 6.50240061e+11,\n",
       "       6.50240053e+11, 6.50240028e+11, 6.50240012e+11, 6.50240067e+11,\n",
       "       6.50240036e+11, 6.50240036e+11, 6.50240032e+11, 7.50131861e+12,\n",
       "       7.50131868e+12, 7.50131867e+12, 7.50131861e+12, 7.50131869e+12,\n",
       "       6.50240063e+11, 6.50240056e+11, 6.50240031e+11, 6.50240032e+11,\n",
       "       6.50240033e+11, 6.50240035e+11, 6.50240028e+11, 6.50240036e+11,\n",
       "       6.50240036e+11, 6.50240033e+11, 6.50240052e+11, 6.50240030e+11,\n",
       "       6.50240062e+11, 6.50240023e+11, 6.50066003e+11, 6.50240059e+11,\n",
       "       6.50240007e+11, 6.50240006e+11, 6.50240028e+11, 6.50240029e+11,\n",
       "       6.50240029e+11, 6.50240002e+11, 6.50240032e+11, 7.79814026e+12,\n",
       "       6.50240017e+11, 6.50240007e+11, 6.50240010e+11, 6.50240032e+11,\n",
       "       6.50240013e+11, 6.50240054e+11, 6.50240014e+11, 6.50240007e+11,\n",
       "       6.50240035e+11, 6.50240022e+11, 6.50240024e+11, 6.50200029e+11,\n",
       "       6.50240068e+11, 6.50240062e+11, 6.50240069e+11, 7.50106563e+12,\n",
       "       7.50106563e+12, 6.50240015e+11, 6.50240054e+11, 6.50240033e+11,\n",
       "       6.50240056e+11, 7.50131863e+12, 6.50240033e+11, 6.50240028e+11,\n",
       "       6.50240007e+11, 6.50240051e+11, 6.50240004e+11, 6.50240026e+11,\n",
       "       6.50240052e+11, 6.50240025e+11, 7.50109860e+12, 6.50240007e+11,\n",
       "       6.50240010e+11, 6.50240011e+11, 6.50240011e+11, 6.50240011e+11,\n",
       "       6.50240022e+11, 6.50240028e+11, 6.50240026e+11, 6.50240029e+11,\n",
       "       6.50240031e+11, 6.50240033e+11, 6.50240031e+11, 6.50240037e+11,\n",
       "       6.50240036e+11, 6.50240040e+11, 6.50240070e+11, 6.50240066e+11,\n",
       "       6.50240012e+11, 6.50240023e+11, 6.50240029e+11, 6.50240016e+11,\n",
       "       7.50131863e+12, 6.50240030e+11, 6.50240008e+11, 6.50240016e+11,\n",
       "       6.50240029e+11, 6.50240065e+11, 6.50240005e+11, 6.50240030e+11,\n",
       "       6.50240036e+11, 6.50240002e+11, 6.50240032e+11, 6.50240015e+11,\n",
       "       6.50240032e+11, 6.50240032e+11, 6.50240035e+11, 6.50240061e+11,\n",
       "       6.50240015e+11, 6.50240031e+11, 6.50240034e+11, 6.50240033e+11,\n",
       "       6.50240025e+11, 6.50240025e+11, 6.50240025e+11, 6.50240025e+11,\n",
       "       6.50240033e+11, 6.50240036e+11, 6.50240037e+11, 6.50240051e+11,\n",
       "       6.50240052e+11, 6.50240057e+11, 6.50240053e+11, 6.50240057e+11,\n",
       "       6.50240069e+11, 6.50240034e+11, 6.50240026e+11, 6.50240026e+11,\n",
       "       6.50240050e+11, 6.50240026e+11, 6.50240026e+11, 6.50240050e+11,\n",
       "       6.50240050e+11, 6.50240050e+11, 6.50240025e+11, 6.50240057e+11,\n",
       "       6.50240066e+11, 6.50240064e+11, 6.50240064e+11, 6.50240066e+11,\n",
       "       3.10742037e+11, 6.50240019e+11, 6.50240054e+11, 6.50240025e+11,\n",
       "       6.50240025e+11, 6.50240033e+11, 6.50240051e+11, 6.50240057e+11,\n",
       "       6.50240026e+11, 6.50240026e+11, 6.50240026e+11, 6.50240050e+11,\n",
       "       3.10742037e+11, 6.50240069e+11, 6.50240025e+11, 6.50240033e+11,\n",
       "       6.50240007e+11, 6.50240012e+11, 7.50954600e+12, 6.50240026e+11,\n",
       "       6.50240026e+11, 6.50240026e+11, 6.50240025e+11, 6.50240026e+11,\n",
       "       6.50240027e+11, 6.50240026e+11, 6.50240010e+11, 6.50240030e+11,\n",
       "       6.50240031e+11, 6.50240031e+11, 6.50240032e+11, 6.50240033e+11,\n",
       "       6.50240036e+11, 7.79814025e+12, 6.50240069e+11, 6.50240069e+11,\n",
       "       6.50240071e+11, 6.50240033e+11, 6.50240015e+11, 7.50106563e+12,\n",
       "       6.50240027e+11, 6.50240032e+11, 6.50240008e+11, 6.50240022e+11,\n",
       "       6.50240069e+11, 6.50240063e+11, 6.50240063e+11, 6.50240070e+11,\n",
       "       6.50240067e+11, 3.10742037e+11, 6.50240056e+11, 6.50240056e+11,\n",
       "       6.50240056e+11, 7.79814026e+12, 6.50240030e+11, 6.50240030e+11,\n",
       "       6.50240025e+11, 6.50240004e+11, 6.50240004e+11, 6.50240020e+11,\n",
       "       6.50240032e+11, 6.50240057e+11, 6.50240025e+11, 6.50240025e+11,\n",
       "       6.50240030e+11, 6.50240058e+11, 6.50240059e+11, 6.50240029e+11,\n",
       "       6.50240037e+11, 6.50240010e+11, 6.50240020e+11, 6.50240068e+11,\n",
       "       6.50240060e+11, 7.50131863e+12, 6.50240064e+11, 6.50066003e+11,\n",
       "       6.50066003e+11, 6.50240067e+11, 6.50240022e+11, 6.50240072e+11,\n",
       "       6.50240070e+11, 6.50240070e+11, 6.50240070e+11, 6.50240070e+11,\n",
       "       6.50240020e+11, 6.50240056e+11, 6.50240070e+11, 6.50240064e+11,\n",
       "       7.50103591e+12, 6.50240056e+11, 6.50240027e+11, 6.50240050e+11,\n",
       "       7.50131868e+12, 6.50240057e+11, 6.50240062e+11, 6.50240037e+11,\n",
       "       6.50240050e+11, 6.50240028e+11, 6.50240066e+11, 6.50240070e+11,\n",
       "       7.50131869e+12, 6.50240033e+11, 6.50240032e+11, 6.50240032e+11,\n",
       "       6.50240032e+11, 6.50240058e+11, 6.50240066e+11, 6.50240033e+11,\n",
       "       6.50240035e+11, 6.50240063e+11, 6.50240070e+11, 7.80465193e+12,\n",
       "       7.80465193e+12, 6.50240066e+11, 6.50240009e+11, 2.00001278e+09,\n",
       "       6.50240066e+11, 6.50240012e+11, 6.50240005e+11, 6.50240063e+11,\n",
       "       6.50240035e+11, 8.10000481e+09, 8.10000592e+09, 8.10000593e+09,\n",
       "       8.10000362e+09, 8.10000100e+09, 8.10000101e+09, 8.10000409e+09,\n",
       "       8.10000475e+09, 8.10000427e+09, 8.10000460e+09, 8.10000475e+09,\n",
       "       8.10000502e+09, 8.10000403e+09, 8.10000558e+09, 8.10000176e+09,\n",
       "       8.10000576e+09, 8.10000575e+09, 8.10000615e+09, 8.10000615e+09,\n",
       "       8.10000409e+09, 8.10000601e+09, 8.10000506e+09, 8.10000042e+09,\n",
       "       8.10000499e+09, 8.10000578e+09, 8.10000578e+09, 8.10000591e+09,\n",
       "       8.10000335e+09, 8.10000564e+09, 8.10000627e+09, 8.10000627e+09,\n",
       "       8.10000523e+09, 8.10000585e+09, 8.10000577e+09, 8.10000616e+09,\n",
       "       8.10000615e+09, 8.10000150e+09, 8.10000302e+09, 8.10000521e+09,\n",
       "       8.10000521e+09, 8.10000521e+09, 8.10000482e+09, 8.10000417e+09,\n",
       "       8.10000590e+09, 8.10000331e+09, 8.10000333e+09, 8.10000475e+09,\n",
       "       8.10000561e+09, 8.10000305e+09, 8.10000320e+09, 8.10000438e+09,\n",
       "       8.10000585e+09, 8.10000516e+09, 8.10000613e+09, 8.10000542e+09,\n",
       "       8.10000541e+09, 6.50240035e+11, 6.50240063e+11, 6.50240032e+11,\n",
       "       6.50240032e+11, 6.50240063e+11, 6.50240069e+11, 7.50103591e+12,\n",
       "       6.50240034e+11, 6.50240070e+11, 6.50240026e+11, 6.50240002e+11,\n",
       "       6.50200029e+11, 6.50240022e+11, 6.50240069e+11, 6.50240068e+11])"
      ]
     },
     "execution_count": 36,
     "metadata": {},
     "output_type": "execute_result"
    }
   ],
   "source": [
    "df['CodigoBarras'].unique()"
   ]
  },
  {
   "cell_type": "code",
   "execution_count": 37,
   "metadata": {},
   "outputs": [
    {
     "data": {
      "text/html": [
       "<div>\n",
       "<style scoped>\n",
       "    .dataframe tbody tr th:only-of-type {\n",
       "        vertical-align: middle;\n",
       "    }\n",
       "\n",
       "    .dataframe tbody tr th {\n",
       "        vertical-align: top;\n",
       "    }\n",
       "\n",
       "    .dataframe thead th {\n",
       "        text-align: right;\n",
       "    }\n",
       "</style>\n",
       "<table border=\"1\" class=\"dataframe\">\n",
       "  <thead>\n",
       "    <tr style=\"text-align: right;\">\n",
       "      <th></th>\n",
       "      <th>Factura</th>\n",
       "    </tr>\n",
       "    <tr>\n",
       "      <th>FechaFactura</th>\n",
       "      <th></th>\n",
       "    </tr>\n",
       "  </thead>\n",
       "  <tbody>\n",
       "    <tr>\n",
       "      <th>2024-03-18 00:00:00</th>\n",
       "      <td>2116</td>\n",
       "    </tr>\n",
       "    <tr>\n",
       "      <th>2024-03-19 00:00:00</th>\n",
       "      <td>1787</td>\n",
       "    </tr>\n",
       "    <tr>\n",
       "      <th>2024-03-20 00:00:00</th>\n",
       "      <td>2702</td>\n",
       "    </tr>\n",
       "    <tr>\n",
       "      <th>2024-03-21 00:00:00</th>\n",
       "      <td>2037</td>\n",
       "    </tr>\n",
       "    <tr>\n",
       "      <th>2024-03-22 00:00:00</th>\n",
       "      <td>1037</td>\n",
       "    </tr>\n",
       "    <tr>\n",
       "      <th>2024-03-23 00:00:00</th>\n",
       "      <td>1640</td>\n",
       "    </tr>\n",
       "    <tr>\n",
       "      <th>2024-03-24 00:00:00</th>\n",
       "      <td>2031</td>\n",
       "    </tr>\n",
       "    <tr>\n",
       "      <th>All</th>\n",
       "      <td>13350</td>\n",
       "    </tr>\n",
       "  </tbody>\n",
       "</table>\n",
       "</div>"
      ],
      "text/plain": [
       "                     Factura\n",
       "FechaFactura                \n",
       "2024-03-18 00:00:00     2116\n",
       "2024-03-19 00:00:00     1787\n",
       "2024-03-20 00:00:00     2702\n",
       "2024-03-21 00:00:00     2037\n",
       "2024-03-22 00:00:00     1037\n",
       "2024-03-23 00:00:00     1640\n",
       "2024-03-24 00:00:00     2031\n",
       "All                    13350"
      ]
     },
     "execution_count": 37,
     "metadata": {},
     "output_type": "execute_result"
    }
   ],
   "source": [
    "df.pivot_table(\n",
    "    index='FechaFactura', \n",
    "    values='Factura',\n",
    "    aggfunc='count',\n",
    "    margins=True\n",
    ")"
   ]
  },
  {
   "cell_type": "code",
   "execution_count": 38,
   "metadata": {},
   "outputs": [
    {
     "data": {
      "text/html": [
       "<div>\n",
       "<style scoped>\n",
       "    .dataframe tbody tr th:only-of-type {\n",
       "        vertical-align: middle;\n",
       "    }\n",
       "\n",
       "    .dataframe tbody tr th {\n",
       "        vertical-align: top;\n",
       "    }\n",
       "\n",
       "    .dataframe thead th {\n",
       "        text-align: right;\n",
       "    }\n",
       "</style>\n",
       "<table border=\"1\" class=\"dataframe\">\n",
       "  <thead>\n",
       "    <tr style=\"text-align: right;\">\n",
       "      <th></th>\n",
       "      <th>ValorNeto</th>\n",
       "    </tr>\n",
       "    <tr>\n",
       "      <th>MotivoPedido</th>\n",
       "      <th></th>\n",
       "    </tr>\n",
       "  </thead>\n",
       "  <tbody>\n",
       "    <tr>\n",
       "      <th></th>\n",
       "      <td>4.904553e+08</td>\n",
       "    </tr>\n",
       "    <tr>\n",
       "      <th>M01</th>\n",
       "      <td>-1.315631e+05</td>\n",
       "    </tr>\n",
       "    <tr>\n",
       "      <th>M04</th>\n",
       "      <td>-6.804664e+04</td>\n",
       "    </tr>\n",
       "    <tr>\n",
       "      <th>M05</th>\n",
       "      <td>-2.173317e+05</td>\n",
       "    </tr>\n",
       "    <tr>\n",
       "      <th>M06</th>\n",
       "      <td>-1.356922e+06</td>\n",
       "    </tr>\n",
       "    <tr>\n",
       "      <th>M07</th>\n",
       "      <td>-7.264337e+04</td>\n",
       "    </tr>\n",
       "    <tr>\n",
       "      <th>M08</th>\n",
       "      <td>-6.125448e+04</td>\n",
       "    </tr>\n",
       "    <tr>\n",
       "      <th>M09</th>\n",
       "      <td>-6.482537e+05</td>\n",
       "    </tr>\n",
       "    <tr>\n",
       "      <th>M13</th>\n",
       "      <td>-5.486841e+05</td>\n",
       "    </tr>\n",
       "    <tr>\n",
       "      <th>M14</th>\n",
       "      <td>-2.391318e+05</td>\n",
       "    </tr>\n",
       "    <tr>\n",
       "      <th>M20</th>\n",
       "      <td>-5.782740e+04</td>\n",
       "    </tr>\n",
       "    <tr>\n",
       "      <th>X1</th>\n",
       "      <td>-3.180535e+07</td>\n",
       "    </tr>\n",
       "    <tr>\n",
       "      <th>Y01</th>\n",
       "      <td>-1.835042e+06</td>\n",
       "    </tr>\n",
       "  </tbody>\n",
       "</table>\n",
       "</div>"
      ],
      "text/plain": [
       "                 ValorNeto\n",
       "MotivoPedido              \n",
       "              4.904553e+08\n",
       "M01          -1.315631e+05\n",
       "M04          -6.804664e+04\n",
       "M05          -2.173317e+05\n",
       "M06          -1.356922e+06\n",
       "M07          -7.264337e+04\n",
       "M08          -6.125448e+04\n",
       "M09          -6.482537e+05\n",
       "M13          -5.486841e+05\n",
       "M14          -2.391318e+05\n",
       "M20          -5.782740e+04\n",
       "X1           -3.180535e+07\n",
       "Y01          -1.835042e+06"
      ]
     },
     "execution_count": 38,
     "metadata": {},
     "output_type": "execute_result"
    }
   ],
   "source": [
    "df.pivot_table(\n",
    "    index='MotivoPedido', \n",
    "    values='ValorNeto', \n",
    "    aggfunc='sum'\n",
    ")"
   ]
  },
  {
   "cell_type": "code",
   "execution_count": 39,
   "metadata": {},
   "outputs": [],
   "source": [
    "df.to_excel(path + '\\\\Cargar ' + filename.split('.')[0] + '.xlsx',\n",
    "            index=False,\n",
    "            sheet_name='carga')"
   ]
  },
  {
   "cell_type": "code",
   "execution_count": null,
   "metadata": {},
   "outputs": [],
   "source": []
  }
 ],
 "metadata": {
  "interpreter": {
   "hash": "fe4feffa201cdf201c8a2af344ba7b0bb32861ea0c787625218332493d6906c2"
  },
  "kernelspec": {
   "display_name": "Python 3 (ipykernel)",
   "language": "python",
   "name": "python3"
  },
  "language_info": {
   "codemirror_mode": {
    "name": "ipython",
    "version": 3
   },
   "file_extension": ".py",
   "mimetype": "text/x-python",
   "name": "python",
   "nbconvert_exporter": "python",
   "pygments_lexer": "ipython3",
   "version": "3.10.11"
  },
  "toc": {
   "base_numbering": 1,
   "nav_menu": {},
   "number_sections": true,
   "sideBar": true,
   "skip_h1_title": false,
   "title_cell": "Table of Contents",
   "title_sidebar": "Contents",
   "toc_cell": false,
   "toc_position": {},
   "toc_section_display": true,
   "toc_window_display": false
  }
 },
 "nbformat": 4,
 "nbformat_minor": 4
}
